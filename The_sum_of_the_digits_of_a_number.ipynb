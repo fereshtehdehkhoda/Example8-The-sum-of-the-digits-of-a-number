{
  "cells": [
    {
      "cell_type": "markdown",
      "metadata": {
        "id": "view-in-github",
        "colab_type": "text"
      },
      "source": [
        "<a href=\"https://colab.research.google.com/github/fereshtehdehkhoda/Example8-The-sum-of-the-digits-of-a-number/blob/main/The_sum_of_the_digits_of_a_number.ipynb\" target=\"_parent\"><img src=\"https://colab.research.google.com/assets/colab-badge.svg\" alt=\"Open In Colab\"/></a>"
      ]
    },
    {
      "cell_type": "markdown",
      "id": "699a3ab4-e8cc-46b4-84d6-ca174dfef2ca",
      "metadata": {
        "id": "699a3ab4-e8cc-46b4-84d6-ca174dfef2ca"
      },
      "source": [
        "# The sum of the digits of a number"
      ]
    },
    {
      "cell_type": "code",
      "execution_count": null,
      "id": "75089f4b-5ca5-45e4-a538-87f1b23dd439",
      "metadata": {
        "id": "75089f4b-5ca5-45e4-a538-87f1b23dd439"
      },
      "outputs": [],
      "source": [
        "#تابعی بنویسید که یک عدد صحیح مثبت از کاربر دریافت کند و جمع ارقام آن را بعنوان خروجی برگرداند.\n",
        "#تابع خود را برای عدد 146018399502 آزمایش کنید. پاسخ صحیح کدام است؟"
      ]
    },
    {
      "cell_type": "code",
      "execution_count": null,
      "id": "f4d125ff-d612-4157-b878-e5e9960619ae",
      "metadata": {
        "id": "f4d125ff-d612-4157-b878-e5e9960619ae",
        "outputId": "b448b618-3b56-4014-b31c-07bcd0f7857d"
      },
      "outputs": [
        {
          "name": "stdin",
          "output_type": "stream",
          "text": [
            "Enter a posetive number 146018399502\n"
          ]
        },
        {
          "name": "stdout",
          "output_type": "stream",
          "text": [
            "48\n"
          ]
        }
      ],
      "source": [
        "#Step1\n",
        "\n",
        "n=list(input(\"Enter a posetive number\"))\n",
        "\n",
        "sum_number_digit=0\n",
        "\n",
        "#Step2\n",
        "for i in n:\n",
        "  sum_number_digit+=int(i)\n",
        "\n",
        "#Step3\n",
        "print(sum_number_digit)"
      ]
    },
    {
      "cell_type": "code",
      "execution_count": null,
      "id": "90bf8d3a-4c90-4049-bbb5-24f0de8526db",
      "metadata": {
        "id": "90bf8d3a-4c90-4049-bbb5-24f0de8526db"
      },
      "outputs": [],
      "source": []
    }
  ],
  "metadata": {
    "kernelspec": {
      "display_name": "Python 3 (ipykernel)",
      "language": "python",
      "name": "python3"
    },
    "language_info": {
      "codemirror_mode": {
        "name": "ipython",
        "version": 3
      },
      "file_extension": ".py",
      "mimetype": "text/x-python",
      "name": "python",
      "nbconvert_exporter": "python",
      "pygments_lexer": "ipython3",
      "version": "3.12.4"
    },
    "colab": {
      "provenance": [],
      "include_colab_link": true
    }
  },
  "nbformat": 4,
  "nbformat_minor": 5
}